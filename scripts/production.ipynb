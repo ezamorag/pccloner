{
 "cells": [
  {
   "cell_type": "code",
   "execution_count": 8,
   "metadata": {},
   "outputs": [
    {
     "name": "stdout",
     "output_type": "stream",
     "text": [
      "Building ...\n"
     ]
    }
   ],
   "source": [
    "import os, re\n",
    "import subprocess\n",
    "\n",
    "def run_command(command):\n",
    "    \"\"\"Runs a shell command and prints the output.\"\"\"\n",
    "    process = subprocess.Popen(command, shell=True, stdout=subprocess.PIPE, stderr=subprocess.PIPE)\n",
    "    output, error = process.communicate()\n",
    "    if output:\n",
    "        print(output.decode())\n",
    "    if error:\n",
    "        print(error.decode())\n",
    "\n",
    "def getversion():\n",
    "    with open(\"setup.py\", \"r\") as f:\n",
    "        content = f.read()\n",
    "    match = re.search(r\"version='([^']+)'\", content)\n",
    "    if match:\n",
    "        version = match.group(1)\n",
    "    else:\n",
    "        print(\"Version not found.\")\n",
    "    return version \n",
    "\n",
    "# Routine for produce the pip package and the ubuntu app\n",
    "base_dir = '/home/ezamorag/GitHub/pccloner'\n",
    "os.chdir(base_dir)  # Replace with your actual path\n",
    "print('Building ...')\n",
    "run_command('python -m build')\n",
    "print('Downloading PIP package ...')\n",
    "run_command('twine upload --repository pypi dist/*')\n",
    "print('Generating executable for ubuntu ...')\n",
    "run_command('pyinstaller -F scripts/testing.py -n pccloner_applinux_' + getversion())\n"
   ]
  },
  {
   "cell_type": "code",
   "execution_count": 1,
   "metadata": {},
   "outputs": [
    {
     "name": "stdout",
     "output_type": "stream",
     "text": [
      "Version: 0.1.2\n"
     ]
    }
   ],
   "source": [
    "\n",
    "\n"
   ]
  },
  {
   "cell_type": "code",
   "execution_count": 2,
   "metadata": {},
   "outputs": [
    {
     "data": {
      "text/plain": [
       "'0.1.2'"
      ]
     },
     "execution_count": 2,
     "metadata": {},
     "output_type": "execute_result"
    }
   ],
   "source": [
    "version"
   ]
  }
 ],
 "metadata": {
  "kernelspec": {
   "display_name": "x",
   "language": "python",
   "name": "python3"
  },
  "language_info": {
   "codemirror_mode": {
    "name": "ipython",
    "version": 3
   },
   "file_extension": ".py",
   "mimetype": "text/x-python",
   "name": "python",
   "nbconvert_exporter": "python",
   "pygments_lexer": "ipython3",
   "version": "3.10.0"
  }
 },
 "nbformat": 4,
 "nbformat_minor": 2
}

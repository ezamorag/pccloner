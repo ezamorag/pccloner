{
 "cells": [
  {
   "cell_type": "code",
   "execution_count": 38,
   "metadata": {},
   "outputs": [
    {
     "name": "stdout",
     "output_type": "stream",
     "text": [
      "The caps_lock was on, we turn it off for you\n",
      "The num_lock was on, we turn it off for you\n"
     ]
    }
   ],
   "source": [
    "import ctypes\n",
    "\n",
    "class LockStates: \n",
    "    def __init__(self): \n",
    "        self.VK_CAPITAL = 0x14  # Change to Caps Lock key code\n",
    "        self.VK_NUMLOCK = 0x90\n",
    "        self.VK_SCROLL = 0x91\n",
    "        self.user32 = ctypes.WinDLL('user32', use_last_error=True)\n",
    "\n",
    "    def reset_all(self):\n",
    "        # Get the current Caps Lock state\n",
    "        is_caps_lock_on = self.get_capslock_state(self.VK_CAPITAL)\n",
    "        if is_caps_lock_on:\n",
    "            print('The caps_lock was on, we turn it off for you')\n",
    "            self.toggle_capslock(self.VK_CAPITAL)\n",
    "\n",
    "        is_numlock_on = self.get_numlock_state(self.VK_NUMLOCK)\n",
    "        if is_numlock_on:\n",
    "            print('The num_lock was on, we turn it off for you')\n",
    "            self.toggle_numlock(self.VK_NUMLOCK)\n",
    "\n",
    "        is_scroll_lock_on = self.get_scrlock_state(self.VK_SCROLL)\n",
    "        if is_scroll_lock_on:\n",
    "            print('The scroll_lock was on, we turn it off for you')\n",
    "            self.toggle_scrlock(self.VK_SCROLL)\n",
    "\n",
    "    def get_capslock_state(self, vk):\n",
    "        return bool(self.user32.GetKeyState(vk) & 0x0001)\n",
    "\n",
    "    def toggle_capslock(self, vk):\n",
    "        self.user32.keybd_event(vk, 0x45, 0, 0)  # Key down\n",
    "        self.user32.keybd_event(vk, 0x45, 0x0002, 0)  # Key up\n",
    "\n",
    "    def get_numlock_state(self, vk):\n",
    "        return bool(self.user32.GetKeyState(vk) & 0x0001)\n",
    "\n",
    "    def toggle_numlock(self, vk):\n",
    "        self.user32.keybd_event(vk, 0x45, 0, 0)  # Key down\n",
    "        self.user32.keybd_event(vk, 0x45, 0x0002, 0)  # Key up\n",
    "\n",
    "    def get_scrlock_state(self, vk):\n",
    "        return bool(self.user32.GetKeyState(vk) & 0x0001)\n",
    "\n",
    "    def toggle_scrlock(self, vk):\n",
    "        self.user32.keybd_event(vk, 0x45, 0, 0)  # Key down\n",
    "        self.user32.keybd_event(vk, 0x45, 0x0002, 0)  # Key up\n",
    "\n",
    "locks = LockStates()\n",
    "locks.reset_all()"
   ]
  },
  {
   "cell_type": "markdown",
   "metadata": {},
   "source": [
    "DDGDGF4455fdfgdgdf5556698fsfdd458////////////888..ffgghFDGDG777"
   ]
  }
 ],
 "metadata": {
  "kernelspec": {
   "display_name": "automat",
   "language": "python",
   "name": "python3"
  },
  "language_info": {
   "codemirror_mode": {
    "name": "ipython",
    "version": 3
   },
   "file_extension": ".py",
   "mimetype": "text/x-python",
   "name": "python",
   "nbconvert_exporter": "python",
   "pygments_lexer": "ipython3",
   "version": "3.10.0"
  }
 },
 "nbformat": 4,
 "nbformat_minor": 2
}

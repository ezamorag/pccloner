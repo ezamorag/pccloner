{
 "cells": [
  {
   "cell_type": "code",
   "execution_count": 2,
   "metadata": {},
   "outputs": [
    {
     "name": "stdout",
     "output_type": "stream",
     "text": [
      "Generating executable for windows ...\n",
      "691 INFO: PyInstaller: 6.9.0, contrib hooks: 2024.7\n",
      "691 INFO: Python: 3.10.0 (conda)\n",
      "702 INFO: Platform: Windows-10-10.0.22621-SP0\n",
      "702 INFO: Python environment: C:\\Users\\ezamo\\miniconda3\\envs\\x\n",
      "703 INFO: wrote C:\\Users\\ezamo\\OneDrive\\Documentos\\GitHub\\pccloner\\pccloner_appwin_0.1.2.spec\n",
      "711 INFO: Module search paths (PYTHONPATH):\n",
      "['C:\\\\Users\\\\ezamo\\\\miniconda3\\\\envs\\\\x\\\\Scripts\\\\pyinstaller.exe',\n",
      " 'C:\\\\Users\\\\ezamo\\\\miniconda3\\\\envs\\\\x\\\\python310.zip',\n",
      " 'C:\\\\Users\\\\ezamo\\\\miniconda3\\\\envs\\\\x\\\\DLLs',\n",
      " 'C:\\\\Users\\\\ezamo\\\\miniconda3\\\\envs\\\\x\\\\lib',\n",
      " 'C:\\\\Users\\\\ezamo\\\\miniconda3\\\\envs\\\\x',\n",
      " 'C:\\\\Users\\\\ezamo\\\\miniconda3\\\\envs\\\\x\\\\lib\\\\site-packages',\n",
      " 'C:\\\\Users\\\\ezamo\\\\miniconda3\\\\envs\\\\x\\\\lib\\\\site-packages\\\\win32',\n",
      " 'C:\\\\Users\\\\ezamo\\\\miniconda3\\\\envs\\\\x\\\\lib\\\\site-packages\\\\win32\\\\lib',\n",
      " 'C:\\\\Users\\\\ezamo\\\\miniconda3\\\\envs\\\\x\\\\lib\\\\site-packages\\\\Pythonwin',\n",
      " 'C:\\\\Users\\\\ezamo\\\\OneDrive\\\\Documentos\\\\GitHub\\\\pccloner\\\\scripts']\n",
      "995 INFO: checking Analysis\n",
      "995 INFO: Building Analysis because Analysis-00.toc is non existent\n",
      "995 INFO: Running Analysis Analysis-00.toc\n",
      "995 INFO: Target bytecode optimization level: 0\n",
      "995 INFO: Initializing module dependency graph...\n",
      "997 INFO: Caching module graph hooks...\n",
      "1015 INFO: Analyzing base_library.zip ...\n",
      "2458 INFO: Loading module hook 'hook-heapq.py' from 'C:\\\\Users\\\\ezamo\\\\miniconda3\\\\envs\\\\x\\\\lib\\\\site-packages\\\\PyInstaller\\\\hooks'...\n",
      "2553 INFO: Loading module hook 'hook-encodings.py' from 'C:\\\\Users\\\\ezamo\\\\miniconda3\\\\envs\\\\x\\\\lib\\\\site-packages\\\\PyInstaller\\\\hooks'...\n",
      "4138 INFO: Loading module hook 'hook-pickle.py' from 'C:\\\\Users\\\\ezamo\\\\miniconda3\\\\envs\\\\x\\\\lib\\\\site-packages\\\\PyInstaller\\\\hooks'...\n",
      "5347 INFO: Caching module dependency graph...\n",
      "5484 INFO: Looking for Python shared library...\n",
      "5494 INFO: Using Python shared library: C:\\Users\\ezamo\\miniconda3\\envs\\x\\python310.dll\n",
      "5494 INFO: Analyzing C:\\Users\\ezamo\\OneDrive\\Documentos\\GitHub\\pccloner\\scripts\\testing.py\n",
      "5531 INFO: Loading module hook 'hook-pynput.py' from 'C:\\\\Users\\\\ezamo\\\\miniconda3\\\\envs\\\\x\\\\lib\\\\site-packages\\\\_pyinstaller_hooks_contrib\\\\hooks\\\\stdhooks'...\n",
      "6220 INFO: Processing pre-safe import module hook six.moves from 'C:\\\\Users\\\\ezamo\\\\miniconda3\\\\envs\\\\x\\\\lib\\\\site-packages\\\\PyInstaller\\\\hooks\\\\pre_safe_import_module\\\\hook-six.moves.py'.\n",
      "6353 INFO: Loading module hook 'hook-platform.py' from 'C:\\\\Users\\\\ezamo\\\\miniconda3\\\\envs\\\\x\\\\lib\\\\site-packages\\\\PyInstaller\\\\hooks'...\n",
      "6492 INFO: Loading module hook 'hook-_tkinter.py' from 'C:\\\\Users\\\\ezamo\\\\miniconda3\\\\envs\\\\x\\\\lib\\\\site-packages\\\\PyInstaller\\\\hooks'...\n",
      "6538 INFO: Loading module hook 'hook-PIL.py' from 'C:\\\\Users\\\\ezamo\\\\miniconda3\\\\envs\\\\x\\\\lib\\\\site-packages\\\\PyInstaller\\\\hooks'...\n",
      "6619 INFO: Loading module hook 'hook-PIL.Image.py' from 'C:\\\\Users\\\\ezamo\\\\miniconda3\\\\envs\\\\x\\\\lib\\\\site-packages\\\\PyInstaller\\\\hooks'...\n",
      "7362 INFO: Loading module hook 'hook-numpy.py' from 'C:\\\\Users\\\\ezamo\\\\miniconda3\\\\envs\\\\x\\\\Lib\\\\site-packages\\\\numpy\\\\_pyinstaller'...\n",
      "7424 WARNING: Conda distribution 'numpy', dependency of 'numpy', was not found. If you installed this distribution with pip then you may ignore this warning.\n",
      "7770 INFO: Loading module hook 'hook-sysconfig.py' from 'C:\\\\Users\\\\ezamo\\\\miniconda3\\\\envs\\\\x\\\\lib\\\\site-packages\\\\PyInstaller\\\\hooks'...\n",
      "8602 INFO: Loading module hook 'hook-difflib.py' from 'C:\\\\Users\\\\ezamo\\\\miniconda3\\\\envs\\\\x\\\\lib\\\\site-packages\\\\PyInstaller\\\\hooks'...\n",
      "8785 INFO: Loading module hook 'hook-multiprocessing.util.py' from 'C:\\\\Users\\\\ezamo\\\\miniconda3\\\\envs\\\\x\\\\lib\\\\site-packages\\\\PyInstaller\\\\hooks'...\n",
      "8853 INFO: Loading module hook 'hook-xml.py' from 'C:\\\\Users\\\\ezamo\\\\miniconda3\\\\envs\\\\x\\\\lib\\\\site-packages\\\\PyInstaller\\\\hooks'...\n",
      "9547 INFO: Loading module hook 'hook-psutil.py' from 'C:\\\\Users\\\\ezamo\\\\miniconda3\\\\envs\\\\x\\\\lib\\\\site-packages\\\\_pyinstaller_hooks_contrib\\\\hooks\\\\stdhooks'...\n",
      "10931 INFO: Loading module hook 'hook-packaging.py' from 'C:\\\\Users\\\\ezamo\\\\miniconda3\\\\envs\\\\x\\\\lib\\\\site-packages\\\\PyInstaller\\\\hooks'...\n",
      "10964 INFO: Loading module hook 'hook-PIL.ImageFilter.py' from 'C:\\\\Users\\\\ezamo\\\\miniconda3\\\\envs\\\\x\\\\lib\\\\site-packages\\\\PyInstaller\\\\hooks'...\n",
      "11242 INFO: Loading module hook 'hook-pandas.py' from 'C:\\\\Users\\\\ezamo\\\\miniconda3\\\\envs\\\\x\\\\lib\\\\site-packages\\\\PyInstaller\\\\hooks'...\n",
      "12969 INFO: Loading module hook 'hook-pytz.py' from 'C:\\\\Users\\\\ezamo\\\\miniconda3\\\\envs\\\\x\\\\lib\\\\site-packages\\\\PyInstaller\\\\hooks'...\n",
      "13253 INFO: Loading module hook 'hook-pkg_resources.py' from 'C:\\\\Users\\\\ezamo\\\\miniconda3\\\\envs\\\\x\\\\lib\\\\site-packages\\\\PyInstaller\\\\hooks'...\n",
      "16569 INFO: Loading module hook 'hook-pandas.io.formats.style.py' from 'C:\\\\Users\\\\ezamo\\\\miniconda3\\\\envs\\\\x\\\\lib\\\\site-packages\\\\PyInstaller\\\\hooks'...\n",
      "17957 INFO: Loading module hook 'hook-IPython.py' from 'C:\\\\Users\\\\ezamo\\\\miniconda3\\\\envs\\\\x\\\\lib\\\\site-packages\\\\_pyinstaller_hooks_contrib\\\\hooks\\\\stdhooks'...\n",
      "20156 INFO: Loading module hook 'hook-xml.dom.domreg.py' from 'C:\\\\Users\\\\ezamo\\\\miniconda3\\\\envs\\\\x\\\\lib\\\\site-packages\\\\PyInstaller\\\\hooks'...\n",
      "20338 INFO: Loading module hook 'hook-pygments.py' from 'C:\\\\Users\\\\ezamo\\\\miniconda3\\\\envs\\\\x\\\\lib\\\\site-packages\\\\PyInstaller\\\\hooks'...\n",
      "23261 INFO: Loading module hook 'hook-wcwidth.py' from 'C:\\\\Users\\\\ezamo\\\\miniconda3\\\\envs\\\\x\\\\lib\\\\site-packages\\\\PyInstaller\\\\hooks'...\n",
      "24212 INFO: Loading module hook 'hook-jedi.py' from 'C:\\\\Users\\\\ezamo\\\\miniconda3\\\\envs\\\\x\\\\lib\\\\site-packages\\\\_pyinstaller_hooks_contrib\\\\hooks\\\\stdhooks'...\n",
      "25860 INFO: Loading module hook 'hook-parso.py' from 'C:\\\\Users\\\\ezamo\\\\miniconda3\\\\envs\\\\x\\\\lib\\\\site-packages\\\\_pyinstaller_hooks_contrib\\\\hooks\\\\stdhooks'...\n",
      "27040 INFO: Loading module hook 'hook-sqlite3.py' from 'C:\\\\Users\\\\ezamo\\\\miniconda3\\\\envs\\\\x\\\\lib\\\\site-packages\\\\PyInstaller\\\\hooks'...\n",
      "28126 INFO: Loading module hook 'hook-zmq.py' from 'C:\\\\Users\\\\ezamo\\\\miniconda3\\\\envs\\\\x\\\\lib\\\\site-packages\\\\_pyinstaller_hooks_contrib\\\\hooks\\\\stdhooks'...\n",
      "29440 INFO: Loading module hook 'hook-platformdirs.py' from 'C:\\\\Users\\\\ezamo\\\\miniconda3\\\\envs\\\\x\\\\lib\\\\site-packages\\\\_pyinstaller_hooks_contrib\\\\hooks\\\\stdhooks'...\n",
      "29707 INFO: Loading module hook 'hook-importlib_metadata.py' from 'C:\\\\Users\\\\ezamo\\\\miniconda3\\\\envs\\\\x\\\\lib\\\\site-packages\\\\PyInstaller\\\\hooks'...\n",
      "29918 INFO: Processing pre-safe import module hook gi from 'C:\\\\Users\\\\ezamo\\\\miniconda3\\\\envs\\\\x\\\\lib\\\\site-packages\\\\PyInstaller\\\\hooks\\\\pre_safe_import_module\\\\hook-gi.py'.\n",
      "30719 INFO: Loading module hook 'hook-pandas.plotting.py' from 'C:\\\\Users\\\\ezamo\\\\miniconda3\\\\envs\\\\x\\\\lib\\\\site-packages\\\\PyInstaller\\\\hooks'...\n",
      "31761 INFO: Loading module hook 'hook-pandas.io.clipboard.py' from 'C:\\\\Users\\\\ezamo\\\\miniconda3\\\\envs\\\\x\\\\lib\\\\site-packages\\\\PyInstaller\\\\hooks'...\n",
      "32147 INFO: Loading module hook 'hook-xml.etree.cElementTree.py' from 'C:\\\\Users\\\\ezamo\\\\miniconda3\\\\envs\\\\x\\\\lib\\\\site-packages\\\\PyInstaller\\\\hooks'...\n",
      "32419 INFO: Processing module hooks...\n",
      "32599 WARNING: Hidden import \"jinja2\" not found!\n",
      "32859 INFO: Loading module hook 'hook-PIL.SpiderImagePlugin.py' from 'C:\\\\Users\\\\ezamo\\\\miniconda3\\\\envs\\\\x\\\\lib\\\\site-packages\\\\PyInstaller\\\\hooks'...\n",
      "35310 INFO: Loading module hook 'hook-_tkinter.py' from 'C:\\\\Users\\\\ezamo\\\\miniconda3\\\\envs\\\\x\\\\lib\\\\site-packages\\\\PyInstaller\\\\hooks'...\n",
      "35310 INFO: checking Tree\n",
      "35311 INFO: Building Tree because Tree-00.toc is non existent\n",
      "35311 INFO: Building Tree Tree-00.toc\n",
      "35381 INFO: checking Tree\n",
      "35381 INFO: Building Tree because Tree-01.toc is non existent\n",
      "35381 INFO: Building Tree Tree-01.toc\n",
      "35389 INFO: checking Tree\n",
      "35389 INFO: Building Tree because Tree-02.toc is non existent\n",
      "35389 INFO: Building Tree Tree-02.toc\n",
      "35496 INFO: Performing binary vs. data reclassification (3357 entries)\n",
      "36688 INFO: Looking for ctypes DLLs\n",
      "36739 INFO: Analyzing run-time hooks ...\n",
      "36750 INFO: Including run-time hook 'C:\\\\Users\\\\ezamo\\\\miniconda3\\\\envs\\\\x\\\\lib\\\\site-packages\\\\PyInstaller\\\\hooks\\\\rthooks\\\\pyi_rth_inspect.py'\n",
      "36752 INFO: Including run-time hook 'C:\\\\Users\\\\ezamo\\\\miniconda3\\\\envs\\\\x\\\\lib\\\\site-packages\\\\PyInstaller\\\\hooks\\\\rthooks\\\\pyi_rth_pkgutil.py'\n",
      "36755 INFO: Processing pre-find module path hook _pyi_rth_utils from 'C:\\\\Users\\\\ezamo\\\\miniconda3\\\\envs\\\\x\\\\lib\\\\site-packages\\\\PyInstaller\\\\hooks\\\\pre_find_module_path\\\\hook-_pyi_rth_utils.py'.\n",
      "36757 INFO: Loading module hook 'hook-_pyi_rth_utils.py' from 'C:\\\\Users\\\\ezamo\\\\miniconda3\\\\envs\\\\x\\\\lib\\\\site-packages\\\\PyInstaller\\\\hooks'...\n",
      "36758 INFO: Including run-time hook 'C:\\\\Users\\\\ezamo\\\\miniconda3\\\\envs\\\\x\\\\lib\\\\site-packages\\\\PyInstaller\\\\hooks\\\\rthooks\\\\pyi_rth_multiprocessing.py'\n",
      "36760 INFO: Including run-time hook 'C:\\\\Users\\\\ezamo\\\\miniconda3\\\\envs\\\\x\\\\lib\\\\site-packages\\\\_pyinstaller_hooks_contrib\\\\hooks\\\\rthooks\\\\pyi_rth_traitlets.py'\n",
      "36761 INFO: Including run-time hook 'C:\\\\Users\\\\ezamo\\\\miniconda3\\\\envs\\\\x\\\\lib\\\\site-packages\\\\PyInstaller\\\\hooks\\\\rthooks\\\\pyi_rth_pkgres.py'\n",
      "36765 INFO: Including run-time hook 'C:\\\\Users\\\\ezamo\\\\miniconda3\\\\envs\\\\x\\\\lib\\\\site-packages\\\\PyInstaller\\\\hooks\\\\rthooks\\\\pyi_rth__tkinter.py'\n",
      "36953 INFO: Looking for dynamic libraries\n",
      "38483 INFO: Extra DLL search directories (AddDllDirectory): ['C:\\\\Users\\\\ezamo\\\\miniconda3\\\\envs\\\\x\\\\lib\\\\site-packages\\\\pandas.libs', 'C:\\\\Users\\\\ezamo\\\\miniconda3\\\\envs\\\\x\\\\lib\\\\site-packages\\\\numpy.libs']\n",
      "38483 INFO: Extra DLL search directories (PATH): []\n",
      "40347 INFO: Warnings written to C:\\Users\\ezamo\\OneDrive\\Documentos\\GitHub\\pccloner\\build\\pccloner_appwin_0.1.2\\warn-pccloner_appwin_0.1.2.txt\n",
      "40630 INFO: Graph cross-reference written to C:\\Users\\ezamo\\OneDrive\\Documentos\\GitHub\\pccloner\\build\\pccloner_appwin_0.1.2\\xref-pccloner_appwin_0.1.2.html\n",
      "40806 INFO: checking PYZ\n",
      "40806 INFO: Building PYZ because PYZ-00.toc is non existent\n",
      "40806 INFO: Building PYZ (ZlibArchive) C:\\Users\\ezamo\\OneDrive\\Documentos\\GitHub\\pccloner\\build\\pccloner_appwin_0.1.2\\PYZ-00.pyz\n",
      "43018 INFO: Building PYZ (ZlibArchive) C:\\Users\\ezamo\\OneDrive\\Documentos\\GitHub\\pccloner\\build\\pccloner_appwin_0.1.2\\PYZ-00.pyz completed successfully.\n",
      "43224 INFO: checking PKG\n",
      "43224 INFO: Building PKG because PKG-00.toc is non existent\n",
      "43224 INFO: Building PKG (CArchive) pccloner_appwin_0.1.2.pkg\n",
      "54930 INFO: Building PKG (CArchive) pccloner_appwin_0.1.2.pkg completed successfully.\n",
      "55035 INFO: Bootloader C:\\Users\\ezamo\\miniconda3\\envs\\x\\lib\\site-packages\\PyInstaller\\bootloader\\Windows-64bit-intel\\run.exe\n",
      "55035 INFO: checking EXE\n",
      "55035 INFO: Building EXE because EXE-00.toc is non existent\n",
      "55035 INFO: Building EXE from EXE-00.toc\n",
      "55035 INFO: Copying bootloader EXE to C:\\Users\\ezamo\\OneDrive\\Documentos\\GitHub\\pccloner\\dist\\pccloner_appwin_0.1.2.exe\n",
      "55076 INFO: Copying icon to EXE\n",
      "55109 INFO: Copying 0 resources to EXE\n",
      "55109 INFO: Embedding manifest in EXE\n",
      "55141 INFO: Appending PKG archive to EXE\n",
      "55169 INFO: Fixing EXE headers\n",
      "55433 INFO: Building EXE from EXE-00.toc completed successfully.\n",
      "\n"
     ]
    }
   ],
   "source": [
    "import os, re\n",
    "import subprocess\n",
    "\n",
    "def run_command(command):\n",
    "    \"\"\"Runs a shell command and prints the output.\"\"\"\n",
    "    process = subprocess.Popen(command, shell=True, stdout=subprocess.PIPE, stderr=subprocess.PIPE)\n",
    "    output, error = process.communicate()\n",
    "    if output:\n",
    "        print(output.decode())\n",
    "    if error:\n",
    "        print(error.decode())\n",
    "\n",
    "def getversion():\n",
    "    with open(\"setup.py\", \"r\") as f:\n",
    "        content = f.read()\n",
    "    match = re.search(r\"version='([^']+)'\", content)\n",
    "    if match:\n",
    "        version = match.group(1)\n",
    "    else:\n",
    "        print(\"Version not found.\")\n",
    "    return version \n",
    "\n",
    "# Make sure that yuo have the environment below: \n",
    "# conda create --name x python==3.10\n",
    "# conda activate x\n",
    "# pip install pyinstaller\n",
    "\n",
    "# Routine for produce the pip package and the ubuntu app\n",
    "base_dir = r'C:\\Users\\ezamo\\OneDrive\\Documentos\\GitHub\\pccloner'\n",
    "os.chdir(base_dir)  # Replace with your actual path\n",
    "print('Generating executable for windows ...')\n",
    "run_command('pyinstaller -F scripts/testing.py -n pccloner_appwin_' + getversion())\n"
   ]
  },
  {
   "cell_type": "code",
   "execution_count": 1,
   "metadata": {},
   "outputs": [
    {
     "name": "stdout",
     "output_type": "stream",
     "text": [
      "Version: 0.1.2\n"
     ]
    }
   ],
   "source": [
    "\n",
    "\n"
   ]
  },
  {
   "cell_type": "code",
   "execution_count": 2,
   "metadata": {},
   "outputs": [
    {
     "data": {
      "text/plain": [
       "'0.1.2'"
      ]
     },
     "execution_count": 2,
     "metadata": {},
     "output_type": "execute_result"
    }
   ],
   "source": [
    "version"
   ]
  }
 ],
 "metadata": {
  "kernelspec": {
   "display_name": "x",
   "language": "python",
   "name": "python3"
  },
  "language_info": {
   "codemirror_mode": {
    "name": "ipython",
    "version": 3
   },
   "file_extension": ".py",
   "mimetype": "text/x-python",
   "name": "python",
   "nbconvert_exporter": "python",
   "pygments_lexer": "ipython3",
   "version": "3.10.0"
  }
 },
 "nbformat": 4,
 "nbformat_minor": 2
}

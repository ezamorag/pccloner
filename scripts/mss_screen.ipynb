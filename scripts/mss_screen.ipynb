{
 "cells": [
  {
   "cell_type": "code",
   "execution_count": 1,
   "metadata": {},
   "outputs": [
    {
     "ename": "FileNotFoundError",
     "evalue": "[Errno 2] No such file or directory: '/home/ezamorag/GitHub/pccloner/scripts/monitor0/monitor1.png'",
     "output_type": "error",
     "traceback": [
      "\u001b[0;31m---------------------------------------------------------------------------\u001b[0m",
      "\u001b[0;31mFileNotFoundError\u001b[0m                         Traceback (most recent call last)",
      "Cell \u001b[0;32mIn[1], line 3\u001b[0m\n\u001b[1;32m      1\u001b[0m \u001b[38;5;28;01mfrom\u001b[39;00m \u001b[38;5;21;01mPIL\u001b[39;00m \u001b[38;5;28;01mimport\u001b[39;00m Image, ImageChops\n\u001b[0;32m----> 3\u001b[0m image \u001b[38;5;241m=\u001b[39m \u001b[43mImage\u001b[49m\u001b[38;5;241;43m.\u001b[39;49m\u001b[43mopen\u001b[49m\u001b[43m(\u001b[49m\u001b[38;5;124;43m'\u001b[39;49m\u001b[38;5;124;43mmonitor0/monitor1.png\u001b[39;49m\u001b[38;5;124;43m'\u001b[39;49m\u001b[43m)\u001b[49m\n\u001b[1;32m      4\u001b[0m black \u001b[38;5;241m=\u001b[39m (\u001b[38;5;241m0\u001b[39m, \u001b[38;5;241m0\u001b[39m, \u001b[38;5;241m0\u001b[39m)\n\u001b[1;32m      5\u001b[0m bg \u001b[38;5;241m=\u001b[39m Image\u001b[38;5;241m.\u001b[39mnew(image\u001b[38;5;241m.\u001b[39mmode, image\u001b[38;5;241m.\u001b[39msize, black)\n",
      "File \u001b[0;32m~/miniconda3/envs/automat/lib/python3.10/site-packages/PIL/Image.py:3431\u001b[0m, in \u001b[0;36mopen\u001b[0;34m(fp, mode, formats)\u001b[0m\n\u001b[1;32m   3428\u001b[0m     filename \u001b[38;5;241m=\u001b[39m os\u001b[38;5;241m.\u001b[39mpath\u001b[38;5;241m.\u001b[39mrealpath(os\u001b[38;5;241m.\u001b[39mfspath(fp))\n\u001b[1;32m   3430\u001b[0m \u001b[38;5;28;01mif\u001b[39;00m filename:\n\u001b[0;32m-> 3431\u001b[0m     fp \u001b[38;5;241m=\u001b[39m \u001b[43mbuiltins\u001b[49m\u001b[38;5;241;43m.\u001b[39;49m\u001b[43mopen\u001b[49m\u001b[43m(\u001b[49m\u001b[43mfilename\u001b[49m\u001b[43m,\u001b[49m\u001b[43m \u001b[49m\u001b[38;5;124;43m\"\u001b[39;49m\u001b[38;5;124;43mrb\u001b[39;49m\u001b[38;5;124;43m\"\u001b[39;49m\u001b[43m)\u001b[49m\n\u001b[1;32m   3432\u001b[0m     exclusive_fp \u001b[38;5;241m=\u001b[39m \u001b[38;5;28;01mTrue\u001b[39;00m\n\u001b[1;32m   3433\u001b[0m \u001b[38;5;28;01melse\u001b[39;00m:\n",
      "\u001b[0;31mFileNotFoundError\u001b[0m: [Errno 2] No such file or directory: '/home/ezamorag/GitHub/pccloner/scripts/monitor0/monitor1.png'"
     ]
    }
   ],
   "source": [
    "from PIL import Image, ImageChops\n",
    "\n",
    "image = Image.open('monitor0/monitor1.png')\n",
    "black = (0, 0, 0)\n",
    "bg = Image.new(image.mode, image.size, black)\n",
    "bbox = ImageChops.difference(image, bg).getbbox()\n",
    "if bbox:\n",
    "    cropped_image = image.crop(bbox)\n",
    "    cropped_image.show()  # Display the cropped image\n",
    "    cropped_image.save('monitor0/cropped_image.png')  # Save the cropped image\n",
    "else:\n",
    "    print(\"No non-black areas found in the image.\")\n",
    "    \n",
    "cropped_image"
   ]
  },
  {
   "cell_type": "code",
   "execution_count": null,
   "metadata": {},
   "outputs": [],
   "source": [
    "import mss\n",
    "from PIL import Image\n",
    "\n",
    "with mss.mss() as sct:\n",
    "    monitors = sct.monitors\n",
    "    print(f\"Total number of monitors detected: {len(monitors) - 1}\")\n",
    "    for i, monitor in enumerate(monitors[0:1], start=0): \n",
    "        print(f\"Monitor {i}: {monitor}\")\n",
    "\n",
    "        screenshot = sct.grab(monitor)\n",
    "     \n",
    "        mss.tools.to_png(screenshot.rgb, screenshot.size, output=f\"erikmonitor{i}.png\")\n",
    "\n",
    "        img = Image.frombytes(\"RGB\", screenshot.size, screenshot.rgb)\n",
    "        img.save(f\"erikmonitor{i}.jpg\", \"JPEG\")\n",
    "        img.save(f\"e{i}.png\", \"PNG\")\n"
   ]
  },
  {
   "cell_type": "code",
   "execution_count": null,
   "metadata": {},
   "outputs": [],
   "source": [
    "import ctypes\n",
    "\n",
    "def get_scaling_factor():\n",
    "    # Get DPI awareness context for the current process\n",
    "    awareness = ctypes.c_int()\n",
    "    ctypes.windll.shcore.GetProcessDpiAwareness(0, ctypes.byref(awareness))\n",
    "\n",
    "    # Get the scaling factor for the primary monitor (scale percentage)\n",
    "    dpi_x = ctypes.c_uint()\n",
    "    dpi_y = ctypes.c_uint()\n",
    "    ctypes.windll.shcore.GetDpiForMonitor(ctypes.windll.user32.MonitorFromWindow(0, 1), 0, ctypes.byref(dpi_x), ctypes.byref(dpi_y))\n",
    "\n",
    "    # Calculate the scaling factor\n",
    "    scaling_factor = dpi_x.value / 96.0  # 96 DPI is the standard base DPI\n",
    "    return scaling_factor * 100  # Return scaling factor as a percentage\n",
    "\n",
    "# Example usage\n",
    "scaling_percentage = get_scaling_factor()\n",
    "print(f\"Scaling factor: {scaling_percentage}%\")"
   ]
  }
 ],
 "metadata": {
  "kernelspec": {
   "display_name": "automat",
   "language": "python",
   "name": "python3"
  },
  "language_info": {
   "codemirror_mode": {
    "name": "ipython",
    "version": 3
   },
   "file_extension": ".py",
   "mimetype": "text/x-python",
   "name": "python",
   "nbconvert_exporter": "python",
   "pygments_lexer": "ipython3",
   "version": "3.10.0"
  }
 },
 "nbformat": 4,
 "nbformat_minor": 2
}

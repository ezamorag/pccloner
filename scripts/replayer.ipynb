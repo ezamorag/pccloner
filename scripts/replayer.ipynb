{
 "cells": [
  {
   "cell_type": "code",
   "execution_count": 8,
   "metadata": {},
   "outputs": [],
   "source": [
    "from glob import glob \n",
    "from pccloner.pctask import Replayer\n",
    "import pandas as pd\n",
    "\n",
    "ix_sample = 2\n",
    "sample_paths = glob('../data/*/*.csv')\n",
    "sample = pd.read_csv(sample_paths[ix_sample], index_col=0)\n",
    "task1 = Replayer(sample, data_dir='../')\n",
    "task1.execute(viz=True, screen_flag=True)"
   ]
  }
 ],
 "metadata": {
  "kernelspec": {
   "display_name": "automat",
   "language": "python",
   "name": "python3"
  },
  "language_info": {
   "codemirror_mode": {
    "name": "ipython",
    "version": 3
   },
   "file_extension": ".py",
   "mimetype": "text/x-python",
   "name": "python",
   "nbconvert_exporter": "python",
   "pygments_lexer": "ipython3",
   "version": "3.10.0"
  }
 },
 "nbformat": 4,
 "nbformat_minor": 2
}

{
 "cells": [
  {
   "cell_type": "code",
   "execution_count": 20,
   "metadata": {},
   "outputs": [
    {
     "name": "stdout",
     "output_type": "stream",
     "text": [
      "Please turn off CAPS_LOCK before continue!\n",
      "\u001b[H\u001b[2JPlease turn off CAPS_LOCK before continue!\n",
      "\u001b[H\u001b[2JPlease turn off CAPS_LOCK before continue!\n",
      "\u001b[H\u001b[2JPlease turn off CAPS_LOCK before continue!\n",
      "\u001b[H\u001b[2J"
     ]
    }
   ],
   "source": [
    "# Caution: \"There are cases where the keyboard LED does not accurately represent the state of caps lock\"\n",
    "# https://stackoverflow.com/questions/13129804/python-how-to-get-current-keylock-status\n",
    "\n",
    "# Ensure your operating system and keyboard drivers are up to date.\n",
    "# Check for any hardware issues with the keyboard.\n",
    "# Be aware of software that might independently control keyboard LEDs and cause discrepancies.\n",
    "# Use diagnostic tools or utilities provided by the keyboard manufacturer to check the LED functionality.\n",
    "\n",
    "import subprocess\n",
    "\n",
    "def check_locks(): \n",
    "    x = subprocess.check_output('xset q | grep LED', shell=True)[65]\n",
    "    if x==48 or x==50:  #caps off\n",
    "        stop=False\n",
    "        if x == 50:  #num on\n",
    "            print(\"Please turn off NUM_LOCK before continue!\")\n",
    "            stop = True\n",
    "    elif x==49 or x==51:  #caps on\n",
    "        print(\"Please turn off CAPS_LOCK before continue!\")\n",
    "        stop = True\n",
    "        if x == 51:  #num on\n",
    "            print(\"Please turn off NUM_LOCK before continue!\")\n",
    "            stop = True\n",
    "    return stop\n",
    "\n",
    "import time, os\n",
    "\n",
    "while check_locks(): \n",
    "    time.sleep(2)\n",
    "    os.system('clear')\n",
    "\n"
   ]
  },
  {
   "cell_type": "code",
   "execution_count": 1,
   "metadata": {},
   "outputs": [
    {
     "ename": "AttributeError",
     "evalue": "module 'keyboardleds' has no attribute 'find_keyboard_device'",
     "output_type": "error",
     "traceback": [
      "\u001b[0;31m---------------------------------------------------------------------------\u001b[0m",
      "\u001b[0;31mAttributeError\u001b[0m                            Traceback (most recent call last)",
      "Cell \u001b[0;32mIn[1], line 4\u001b[0m\n\u001b[1;32m      1\u001b[0m \u001b[38;5;28;01mimport\u001b[39;00m \u001b[38;5;21;01mkeyboardleds\u001b[39;00m\n\u001b[1;32m      3\u001b[0m \u001b[38;5;66;03m# Find the correct event device for your keyboard\u001b[39;00m\n\u001b[0;32m----> 4\u001b[0m event_device \u001b[38;5;241m=\u001b[39m \u001b[43mkeyboardleds\u001b[49m\u001b[38;5;241;43m.\u001b[39;49m\u001b[43mfind_keyboard_device\u001b[49m()\n\u001b[1;32m      5\u001b[0m ledkit \u001b[38;5;241m=\u001b[39m keyboardleds\u001b[38;5;241m.\u001b[39mLedKit(event_device)\n\u001b[1;32m      6\u001b[0m ledkit\u001b[38;5;241m.\u001b[39mcaps_lock\u001b[38;5;241m.\u001b[39mset()    \u001b[38;5;66;03m# Turn Caps Lock on\u001b[39;00m\n",
      "\u001b[0;31mAttributeError\u001b[0m: module 'keyboardleds' has no attribute 'find_keyboard_device'"
     ]
    }
   ],
   "source": [
    "import keyboardleds\n",
    "\n",
    "# Find the correct event device for your keyboard\n",
    "event_device = keyboardleds.find_keyboard_device()\n",
    "ledkit = keyboardleds.LedKit(event_device)\n",
    "ledkit.caps_lock.set()    # Turn Caps Lock on\n",
    "#ledkit.num_lock.reset()   # Turn Num Lock off\n",
    "#ledkit.scroll_lock.toggle() # Toggle Scroll Lock"
   ]
  },
  {
   "cell_type": "code",
   "execution_count": 7,
   "metadata": {},
   "outputs": [
    {
     "ename": "PermissionError",
     "evalue": "[Errno 13] Permission denied: '/dev/input/by-path/pci-0000:00:14.0-usb-0:12:1.0-event-kbd'",
     "output_type": "error",
     "traceback": [
      "\u001b[0;31m---------------------------------------------------------------------------\u001b[0m",
      "\u001b[0;31mPermissionError\u001b[0m                           Traceback (most recent call last)",
      "Cell \u001b[0;32mIn[7], line 1\u001b[0m\n\u001b[0;32m----> 1\u001b[0m lk \u001b[38;5;241m=\u001b[39m \u001b[43mkeyboardleds\u001b[49m\u001b[38;5;241;43m.\u001b[39;49m\u001b[43mLedKit\u001b[49m\u001b[43m(\u001b[49m\u001b[38;5;124;43m'\u001b[39;49m\u001b[38;5;124;43m/dev/input/by-path/pci-0000:00:14.0-usb-0:12:1.0-event-kbd\u001b[39;49m\u001b[38;5;124;43m'\u001b[39;49m\u001b[43m)\u001b[49m\n\u001b[1;32m      2\u001b[0m lk\u001b[38;5;241m.\u001b[39mcaps_lock\u001b[38;5;241m.\u001b[39mset()\n",
      "File \u001b[0;32m~/miniconda3/envs/automat/lib/python3.10/site-packages/keyboardleds.py:85\u001b[0m, in \u001b[0;36mLedKit.__init__\u001b[0;34m(self, device_path)\u001b[0m\n\u001b[1;32m     83\u001b[0m \u001b[38;5;28;01mdef\u001b[39;00m \u001b[38;5;21m__init__\u001b[39m(\u001b[38;5;28mself\u001b[39m, device_path):\n\u001b[1;32m     84\u001b[0m     \u001b[38;5;28mself\u001b[39m\u001b[38;5;241m.\u001b[39m_filename \u001b[38;5;241m=\u001b[39m device_path\n\u001b[0;32m---> 85\u001b[0m     \u001b[38;5;28mself\u001b[39m\u001b[38;5;241m.\u001b[39m_fd \u001b[38;5;241m=\u001b[39m \u001b[43mos\u001b[49m\u001b[38;5;241;43m.\u001b[39;49m\u001b[43mopen\u001b[49m\u001b[43m(\u001b[49m\u001b[43mdevice_path\u001b[49m\u001b[43m,\u001b[49m\u001b[43m \u001b[49m\u001b[43mos\u001b[49m\u001b[38;5;241;43m.\u001b[39;49m\u001b[43mO_WRONLY\u001b[49m\u001b[43m)\u001b[49m\n\u001b[1;32m     86\u001b[0m     info \u001b[38;5;241m=\u001b[39m os\u001b[38;5;241m.\u001b[39mfstat(\u001b[38;5;28mself\u001b[39m\u001b[38;5;241m.\u001b[39m_fd)\n\u001b[1;32m     87\u001b[0m     \u001b[38;5;28mself\u001b[39m\u001b[38;5;241m.\u001b[39m_input_subsystem \u001b[38;5;241m=\u001b[39m (\n\u001b[1;32m     88\u001b[0m         stat\u001b[38;5;241m.\u001b[39mS_ISCHR(info\u001b[38;5;241m.\u001b[39mst_mode) \u001b[38;5;129;01mand\u001b[39;00m\n\u001b[1;32m     89\u001b[0m         _EVENT_DEV_MIN \u001b[38;5;241m<\u001b[39m\u001b[38;5;241m=\u001b[39m info\u001b[38;5;241m.\u001b[39mst_rdev \u001b[38;5;241m<\u001b[39m\u001b[38;5;241m=\u001b[39m _EVENT_DEV_MAX\n\u001b[1;32m     90\u001b[0m     )\n",
      "\u001b[0;31mPermissionError\u001b[0m: [Errno 13] Permission denied: '/dev/input/by-path/pci-0000:00:14.0-usb-0:12:1.0-event-kbd'"
     ]
    }
   ],
   "source": [
    "\n",
    "lk = keyboardleds.LedKit('/dev/input/by-path/pci-0000:00:14.0-usb-0:12:1.0-event-kbd')\n",
    "lk.caps_lock.set()"
   ]
  }
 ],
 "metadata": {
  "kernelspec": {
   "display_name": "automat",
   "language": "python",
   "name": "python3"
  },
  "language_info": {
   "codemirror_mode": {
    "name": "ipython",
    "version": 3
   },
   "file_extension": ".py",
   "mimetype": "text/x-python",
   "name": "python",
   "nbconvert_exporter": "python",
   "pygments_lexer": "ipython3",
   "version": "3.10.0"
  }
 },
 "nbformat": 4,
 "nbformat_minor": 2
}

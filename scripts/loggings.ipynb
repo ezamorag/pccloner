{
 "cells": [
  {
   "cell_type": "code",
   "execution_count": 1,
   "metadata": {},
   "outputs": [
    {
     "name": "stderr",
     "output_type": "stream",
     "text": [
      "2024-07-18 12:31:35 - INFO - Division by zero\n"
     ]
    }
   ],
   "source": [
    "import logging\n",
    "\n",
    "\n",
    "logger = logging.getLogger('pcdata_logger')\n",
    "logger.setLevel(logging.INFO)  \n",
    "file_handler = logging.FileHandler('pcdata.log', mode='x')\n",
    "console_handler = logging.StreamHandler()\n",
    "file_handler.setLevel(logging.INFO)\n",
    "console_handler.setLevel(logging.INFO)\n",
    "formatter = logging.Formatter('%(asctime)s - %(levelname)s - %(message)s', datefmt='%Y-%m-%d %H:%M:%S')\n",
    "file_handler.setFormatter(formatter)\n",
    "console_handler.setFormatter(formatter)\n",
    "logger.addHandler(file_handler)\n",
    "logger.addHandler(console_handler)\n",
    "\n",
    "def divide(a, b):\n",
    "    try:\n",
    "        return a / b\n",
    "    except ZeroDivisionError as e:\n",
    "        logger.info(\"Division by zero\")\n",
    "        return None\n",
    "\n",
    "result = divide(11, 0)"
   ]
  }
 ],
 "metadata": {
  "kernelspec": {
   "display_name": "automat",
   "language": "python",
   "name": "python3"
  },
  "language_info": {
   "codemirror_mode": {
    "name": "ipython",
    "version": 3
   },
   "file_extension": ".py",
   "mimetype": "text/x-python",
   "name": "python",
   "nbconvert_exporter": "python",
   "pygments_lexer": "ipython3",
   "version": "3.10.0"
  }
 },
 "nbformat": 4,
 "nbformat_minor": 2
}
